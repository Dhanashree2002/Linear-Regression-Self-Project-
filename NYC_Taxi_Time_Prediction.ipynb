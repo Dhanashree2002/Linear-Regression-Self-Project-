{
  "nbformat": 4,
  "nbformat_minor": 0,
  "metadata": {
    "colab": {
      "provenance": [],
      "authorship_tag": "ABX9TyO/QTawMSL2KGBWGE5nRdTB",
      "include_colab_link": true
    },
    "kernelspec": {
      "name": "python3",
      "display_name": "Python 3"
    },
    "language_info": {
      "name": "python"
    }
  },
  "cells": [
    {
      "cell_type": "markdown",
      "metadata": {
        "id": "view-in-github",
        "colab_type": "text"
      },
      "source": [
        "<a href=\"https://colab.research.google.com/github/Dhanashree2002/Linear-Regression-Self-Project-/blob/main/NYC_Taxi_Time_Prediction.ipynb\" target=\"_parent\"><img src=\"https://colab.research.google.com/assets/colab-badge.svg\" alt=\"Open In Colab\"/></a>"
      ]
    },
    {
      "cell_type": "markdown",
      "source": [
        "#Project Name - NYC_Taxi_Trip_Time_Prediction (Predicting total ride duration of taxi trips in New York City)\n"
      ],
      "metadata": {
        "id": "Edg9rrqeyu66"
      }
    },
    {
      "cell_type": "markdown",
      "source": [
        "###Project Type: Regression\n",
        "###Contribution: Individual\n"
      ],
      "metadata": {
        "id": "_QkYXNirzax2"
      }
    },
    {
      "cell_type": "markdown",
      "source": [
        "###By Dhanashree Ashok Jadhav\n",
        "###Email: dhanashrijadhav2204@gmail.com\n",
        "###Git Hub Link: https://github.com/Dhanashree2002\n",
        "###LinkedIn Link: https://www.linkedin.com/in/dhanashree-jadhav-288aa4202"
      ],
      "metadata": {
        "id": "WsQZ445Bz_pT"
      }
    },
    {
      "cell_type": "markdown",
      "source": [
        "#Problem Summary"
      ],
      "metadata": {
        "id": "xkP-e3D40_51"
      }
    }
  ]
}